{
 "cells": [
  {
   "cell_type": "markdown",
   "id": "ee7dfa3f-afdc-4392-ba5c-ccacc4f37d28",
   "metadata": {},
   "source": []
  },
  {
   "cell_type": "markdown",
   "id": "30f70e27-b00f-4850-8e37-ab854f1ba3ce",
   "metadata": {},
   "source": [
    "# Data Science Tools and Ecosystem"
   ]
  },
  {
   "cell_type": "markdown",
   "id": "5be49e31-d7bc-47cd-95f4-4a495084d8b4",
   "metadata": {},
   "source": [
    "In this notebook, Data Science Tools and Ecosystem are summarized."
   ]
  },
  {
   "cell_type": "markdown",
   "id": "6c901bd1-14eb-450e-a118-cea0fe518cfa",
   "metadata": {},
   "source": [
    "Some of the popular languages that Data Scientists use are:\n",
    "1. Python\n",
    "2. R\n",
    "3. SQL\n"
   ]
  },
  {
   "cell_type": "markdown",
   "id": "a71b862f-b857-4cb6-b2ff-ce3a9182e7f4",
   "metadata": {},
   "source": [
    "Some of the commonly used libraries used by Data Scientists include:\n",
    "1. Pandas\n",
    "2. NumPy\n",
    "3. Matplotlib\n"
   ]
  },
  {
   "cell_type": "markdown",
   "id": "edeb4b09-6af2-4b7e-8209-63c276301def",
   "metadata": {},
   "source": [
    "| Data Science Tools |\n",
    "|--------------------|\n",
    "| Jupyter Notebook    |\n",
    "| RStudio             |\n",
    "| Apache Spark        |\n"
   ]
  },
  {
   "cell_type": "markdown",
   "id": "94608eb9-956a-45dc-8fad-503930db8c4a",
   "metadata": {},
   "source": [
    "### Below are a few examples of evaluating arithmetic expressions in Python"
   ]
  },
  {
   "cell_type": "code",
   "execution_count": 7,
   "id": "d2365110-77bf-4b14-9d72-ed80e02eb154",
   "metadata": {},
   "outputs": [
    {
     "data": {
      "text/plain": [
       "17"
      ]
     },
     "execution_count": 7,
     "metadata": {},
     "output_type": "execute_result"
    }
   ],
   "source": [
    "# This is a simple arithmetic expression to multiply then add integers\n",
    "result = (3 * 4) + 5\n",
    "result\n"
   ]
  },
  {
   "cell_type": "code",
   "execution_count": 8,
   "id": "863c2d97-404a-41ff-8548-d7f004035cd3",
   "metadata": {},
   "outputs": [
    {
     "data": {
      "text/plain": [
       "3.3333333333333335"
      ]
     },
     "execution_count": 8,
     "metadata": {},
     "output_type": "execute_result"
    }
   ],
   "source": [
    "# This will convert 200 minutes to hours by dividing by 60\n",
    "hours = 200 / 60\n",
    "hours\n"
   ]
  },
  {
   "cell_type": "markdown",
   "id": "dc26dab7-5f4a-4bb6-a79b-cd1db0bf3fe5",
   "metadata": {},
   "source": [
    "*Objectives:*\n",
    "- List popular languages for Data Science\n",
    "- List common libraries used in Data Science\n",
    "- Create a table of Data Science tools\n",
    "- Evaluate arithmetic expressions\n"
   ]
  },
  {
   "cell_type": "markdown",
   "id": "02b25cbd-8b78-4b32-ab10-6cfe3d5595ad",
   "metadata": {},
   "source": [
    "## Author\n",
    "Daniel Muñoz Tapia"
   ]
  },
  {
   "cell_type": "code",
   "execution_count": null,
   "id": "2f31b97e-bab3-4567-aa76-452157311264",
   "metadata": {},
   "outputs": [],
   "source": []
  }
 ],
 "metadata": {
  "kernelspec": {
   "display_name": "Python 3 (ipykernel)",
   "language": "python",
   "name": "python3"
  },
  "language_info": {
   "codemirror_mode": {
    "name": "ipython",
    "version": 3
   },
   "file_extension": ".py",
   "mimetype": "text/x-python",
   "name": "python",
   "nbconvert_exporter": "python",
   "pygments_lexer": "ipython3",
   "version": "3.9.13"
  }
 },
 "nbformat": 4,
 "nbformat_minor": 5
}
